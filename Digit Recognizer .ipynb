{
 "cells": [
  {
   "cell_type": "code",
   "execution_count": 1,
   "id": "c7b8df37",
   "metadata": {},
   "outputs": [],
   "source": [
    "import numpy as np\n",
    "import pandas as pd\n",
    "import matplotlib.pyplot as plt\n",
    "%matplotlib inline"
   ]
  },
  {
   "cell_type": "code",
   "execution_count": 2,
   "id": "654fa769",
   "metadata": {},
   "outputs": [],
   "source": [
    "data = pd.read_csv(\"train.csv\")"
   ]
  },
  {
   "cell_type": "code",
   "execution_count": 3,
   "id": "26da623d",
   "metadata": {},
   "outputs": [
    {
     "data": {
      "text/html": [
       "<div>\n",
       "<style scoped>\n",
       "    .dataframe tbody tr th:only-of-type {\n",
       "        vertical-align: middle;\n",
       "    }\n",
       "\n",
       "    .dataframe tbody tr th {\n",
       "        vertical-align: top;\n",
       "    }\n",
       "\n",
       "    .dataframe thead th {\n",
       "        text-align: right;\n",
       "    }\n",
       "</style>\n",
       "<table border=\"1\" class=\"dataframe\">\n",
       "  <thead>\n",
       "    <tr style=\"text-align: right;\">\n",
       "      <th></th>\n",
       "      <th>label</th>\n",
       "      <th>pixel0</th>\n",
       "      <th>pixel1</th>\n",
       "      <th>pixel2</th>\n",
       "      <th>pixel3</th>\n",
       "      <th>pixel4</th>\n",
       "      <th>pixel5</th>\n",
       "      <th>pixel6</th>\n",
       "      <th>pixel7</th>\n",
       "      <th>pixel8</th>\n",
       "      <th>...</th>\n",
       "      <th>pixel774</th>\n",
       "      <th>pixel775</th>\n",
       "      <th>pixel776</th>\n",
       "      <th>pixel777</th>\n",
       "      <th>pixel778</th>\n",
       "      <th>pixel779</th>\n",
       "      <th>pixel780</th>\n",
       "      <th>pixel781</th>\n",
       "      <th>pixel782</th>\n",
       "      <th>pixel783</th>\n",
       "    </tr>\n",
       "  </thead>\n",
       "  <tbody>\n",
       "    <tr>\n",
       "      <th>0</th>\n",
       "      <td>1</td>\n",
       "      <td>0</td>\n",
       "      <td>0</td>\n",
       "      <td>0</td>\n",
       "      <td>0</td>\n",
       "      <td>0</td>\n",
       "      <td>0</td>\n",
       "      <td>0</td>\n",
       "      <td>0</td>\n",
       "      <td>0</td>\n",
       "      <td>...</td>\n",
       "      <td>0</td>\n",
       "      <td>0</td>\n",
       "      <td>0</td>\n",
       "      <td>0</td>\n",
       "      <td>0</td>\n",
       "      <td>0</td>\n",
       "      <td>0</td>\n",
       "      <td>0</td>\n",
       "      <td>0</td>\n",
       "      <td>0</td>\n",
       "    </tr>\n",
       "    <tr>\n",
       "      <th>1</th>\n",
       "      <td>0</td>\n",
       "      <td>0</td>\n",
       "      <td>0</td>\n",
       "      <td>0</td>\n",
       "      <td>0</td>\n",
       "      <td>0</td>\n",
       "      <td>0</td>\n",
       "      <td>0</td>\n",
       "      <td>0</td>\n",
       "      <td>0</td>\n",
       "      <td>...</td>\n",
       "      <td>0</td>\n",
       "      <td>0</td>\n",
       "      <td>0</td>\n",
       "      <td>0</td>\n",
       "      <td>0</td>\n",
       "      <td>0</td>\n",
       "      <td>0</td>\n",
       "      <td>0</td>\n",
       "      <td>0</td>\n",
       "      <td>0</td>\n",
       "    </tr>\n",
       "    <tr>\n",
       "      <th>2</th>\n",
       "      <td>1</td>\n",
       "      <td>0</td>\n",
       "      <td>0</td>\n",
       "      <td>0</td>\n",
       "      <td>0</td>\n",
       "      <td>0</td>\n",
       "      <td>0</td>\n",
       "      <td>0</td>\n",
       "      <td>0</td>\n",
       "      <td>0</td>\n",
       "      <td>...</td>\n",
       "      <td>0</td>\n",
       "      <td>0</td>\n",
       "      <td>0</td>\n",
       "      <td>0</td>\n",
       "      <td>0</td>\n",
       "      <td>0</td>\n",
       "      <td>0</td>\n",
       "      <td>0</td>\n",
       "      <td>0</td>\n",
       "      <td>0</td>\n",
       "    </tr>\n",
       "    <tr>\n",
       "      <th>3</th>\n",
       "      <td>4</td>\n",
       "      <td>0</td>\n",
       "      <td>0</td>\n",
       "      <td>0</td>\n",
       "      <td>0</td>\n",
       "      <td>0</td>\n",
       "      <td>0</td>\n",
       "      <td>0</td>\n",
       "      <td>0</td>\n",
       "      <td>0</td>\n",
       "      <td>...</td>\n",
       "      <td>0</td>\n",
       "      <td>0</td>\n",
       "      <td>0</td>\n",
       "      <td>0</td>\n",
       "      <td>0</td>\n",
       "      <td>0</td>\n",
       "      <td>0</td>\n",
       "      <td>0</td>\n",
       "      <td>0</td>\n",
       "      <td>0</td>\n",
       "    </tr>\n",
       "    <tr>\n",
       "      <th>4</th>\n",
       "      <td>0</td>\n",
       "      <td>0</td>\n",
       "      <td>0</td>\n",
       "      <td>0</td>\n",
       "      <td>0</td>\n",
       "      <td>0</td>\n",
       "      <td>0</td>\n",
       "      <td>0</td>\n",
       "      <td>0</td>\n",
       "      <td>0</td>\n",
       "      <td>...</td>\n",
       "      <td>0</td>\n",
       "      <td>0</td>\n",
       "      <td>0</td>\n",
       "      <td>0</td>\n",
       "      <td>0</td>\n",
       "      <td>0</td>\n",
       "      <td>0</td>\n",
       "      <td>0</td>\n",
       "      <td>0</td>\n",
       "      <td>0</td>\n",
       "    </tr>\n",
       "  </tbody>\n",
       "</table>\n",
       "<p>5 rows × 785 columns</p>\n",
       "</div>"
      ],
      "text/plain": [
       "   label  pixel0  pixel1  pixel2  pixel3  pixel4  pixel5  pixel6  pixel7  \\\n",
       "0      1       0       0       0       0       0       0       0       0   \n",
       "1      0       0       0       0       0       0       0       0       0   \n",
       "2      1       0       0       0       0       0       0       0       0   \n",
       "3      4       0       0       0       0       0       0       0       0   \n",
       "4      0       0       0       0       0       0       0       0       0   \n",
       "\n",
       "   pixel8  ...  pixel774  pixel775  pixel776  pixel777  pixel778  pixel779  \\\n",
       "0       0  ...         0         0         0         0         0         0   \n",
       "1       0  ...         0         0         0         0         0         0   \n",
       "2       0  ...         0         0         0         0         0         0   \n",
       "3       0  ...         0         0         0         0         0         0   \n",
       "4       0  ...         0         0         0         0         0         0   \n",
       "\n",
       "   pixel780  pixel781  pixel782  pixel783  \n",
       "0         0         0         0         0  \n",
       "1         0         0         0         0  \n",
       "2         0         0         0         0  \n",
       "3         0         0         0         0  \n",
       "4         0         0         0         0  \n",
       "\n",
       "[5 rows x 785 columns]"
      ]
     },
     "execution_count": 3,
     "metadata": {},
     "output_type": "execute_result"
    }
   ],
   "source": [
    "data.head()"
   ]
  },
  {
   "cell_type": "code",
   "execution_count": 4,
   "id": "623ae6f6",
   "metadata": {},
   "outputs": [],
   "source": [
    "data = np.array(data) "
   ]
  },
  {
   "cell_type": "code",
   "execution_count": 5,
   "id": "68a5d59e",
   "metadata": {},
   "outputs": [],
   "source": [
    "m, n = data.shape"
   ]
  },
  {
   "cell_type": "code",
   "execution_count": 6,
   "id": "6b51994d",
   "metadata": {},
   "outputs": [],
   "source": [
    "np.random.shuffle(data)"
   ]
  },
  {
   "cell_type": "code",
   "execution_count": 7,
   "id": "889a7bef",
   "metadata": {},
   "outputs": [],
   "source": [
    "data_dev = data[0:1000].T\n",
    "X_dev = data_dev[1:n]\n",
    "y_dev = data_dev[0]\n",
    "X_dev = X_dev / 255.\n",
    "\n",
    "data_train = data[1000:m].T\n",
    "X_train = data_train[1:n]\n",
    "y_train = data_train[0]\n",
    "X_train = X_train / 255."
   ]
  },
  {
   "cell_type": "code",
   "execution_count": 8,
   "id": "285671da",
   "metadata": {},
   "outputs": [
    {
     "data": {
      "text/plain": [
       "9"
      ]
     },
     "execution_count": 8,
     "metadata": {},
     "output_type": "execute_result"
    }
   ],
   "source": [
    "y_train.max()"
   ]
  },
  {
   "cell_type": "code",
   "execution_count": 9,
   "id": "9b6f8f64",
   "metadata": {},
   "outputs": [
    {
     "data": {
      "text/plain": [
       "(784,)"
      ]
     },
     "execution_count": 9,
     "metadata": {},
     "output_type": "execute_result"
    }
   ],
   "source": [
    "X_train[:, 0].shape #first col"
   ]
  },
  {
   "cell_type": "code",
   "execution_count": 10,
   "id": "280dc3f5",
   "metadata": {},
   "outputs": [],
   "source": [
    "def init_params():\n",
    "    W1 = np.random.randn(10,784) * 0.01\n",
    "    b1 = np.zeros((10,1))\n",
    "    W2 = np.random.randn(10,10) *0.01\n",
    "    b2 = np.zeros((10,1))\n",
    "\n",
    "    return W1,b1,W2,b2"
   ]
  },
  {
   "cell_type": "code",
   "execution_count": 11,
   "id": "c533eac4",
   "metadata": {},
   "outputs": [],
   "source": [
    "def ReLu(Z):\n",
    "    a = np.maximum(0,Z)\n",
    "\n",
    "    return a\n"
   ]
  },
  {
   "cell_type": "code",
   "execution_count": 12,
   "id": "6dd99fc5",
   "metadata": {},
   "outputs": [],
   "source": [
    "def softmax(Z):\n",
    "    A = np.exp(Z) / sum(np.exp(Z))\n",
    "    return A"
   ]
  },
  {
   "cell_type": "code",
   "execution_count": 13,
   "id": "872910a7",
   "metadata": {},
   "outputs": [],
   "source": [
    "def forward_prop(W1, b1, W2, b2, X):\n",
    "    Z1 = np.dot(W1,X) + b1\n",
    "    A1 = ReLu(Z1)\n",
    "    \n",
    "    Z2 = np.dot(W2, A1) + b2\n",
    "    A2 = softmax(Z2)\n",
    "    return Z1, A1, A2, Z2"
   ]
  },
  {
   "cell_type": "code",
   "execution_count": 14,
   "id": "d38a8a29",
   "metadata": {},
   "outputs": [],
   "source": [
    "def one_hot(Y):\n",
    "    one_hot_y = np.zeros((Y.size, Y.max() + 1 ))\n",
    "    one_hot_y[np.arange(Y.size), Y] = 1\n",
    "    one_hot_y = one_hot_y.T\n",
    "    return one_hot_y"
   ]
  },
  {
   "cell_type": "code",
   "execution_count": 15,
   "id": "61e956db",
   "metadata": {},
   "outputs": [],
   "source": [
    "def deri_ReLu(Z):\n",
    "    return Z > 0"
   ]
  },
  {
   "cell_type": "code",
   "execution_count": 16,
   "id": "865da8c1",
   "metadata": {},
   "outputs": [],
   "source": [
    "def back_prop(Z1, A1, A2, Z2, X, Y,W1,b1,W2, b2):\n",
    "\n",
    "    one_hot_y = one_hot(Y)\n",
    "    \n",
    "    dZ2 = A2 - one_hot_y\n",
    "    dW2 = 1/m * np.dot(dZ2, A1.T)\n",
    "    \n",
    "    db2 = 1/m *np.sum(dZ2, axis = 1, keepdims=True)\n",
    "    \n",
    "    dZ1 = np.dot(W2.T, dZ2) * deri_ReLu(Z1)\n",
    "    dW1 = 1/m * np.dot(dZ1, X.T)\n",
    "    db1 = 1/m * np.sum(dZ1, axis = 1, keepdims = True)\n",
    "    \n",
    "    return dW1, db1, dW2, db2"
   ]
  },
  {
   "cell_type": "code",
   "execution_count": 17,
   "id": "06f05591",
   "metadata": {},
   "outputs": [],
   "source": [
    "def update_params(W1, b1, W2, b2, dW1, db1, dW2, db2, alpha):\n",
    "    \n",
    "    W1 = W1 - alpha * dW1\n",
    "    b1 = b1 - alpha * db1\n",
    "    \n",
    "    W2 = W2 - alpha * dW2\n",
    "    b2 = b2 - alpha * db2\n",
    "    \n",
    "    return W1, b1, W2, b2"
   ]
  },
  {
   "cell_type": "code",
   "execution_count": 18,
   "id": "1886bb67",
   "metadata": {},
   "outputs": [],
   "source": [
    "def get_pred(A2):\n",
    "    return np.argmax(A2, 0)"
   ]
  },
  {
   "cell_type": "code",
   "execution_count": 19,
   "id": "35195d42",
   "metadata": {},
   "outputs": [],
   "source": [
    "def get_accuracy(predictions, Y):\n",
    "    print(predictions, Y)\n",
    "    return ((np.sum(predictions == Y) / Y.size)*100)"
   ]
  },
  {
   "cell_type": "code",
   "execution_count": 20,
   "id": "3d04cab8",
   "metadata": {},
   "outputs": [],
   "source": [
    "def gradient_des(X, Y, iteration, alpha):\n",
    "    W1, b1, W2, b2 = init_params()\n",
    "\n",
    "    for i in range(iteration ):\n",
    "        Z1, A1, Z2, A2 = forward_prop(W1, b1, W2, b2, X)\n",
    "        dW1, db1, dW2, db2 = back_prop(Z1, A1, A2, Z2, X, Y, W1,b1,W2, b2)\n",
    "        W1, b1, W2, b2 = update_params(W1, b1, W2, b2, dW1, db1, dW2, db2, alpha)\n",
    "        if i % 100 == 0:\n",
    "            print(\"Iteration :\", i)\n",
    "            print(\"Accuracy: \", get_accuracy(get_pred(A2), Y), \"%\")\n",
    "    return W1, b1, W2, b2"
   ]
  },
  {
   "cell_type": "code",
   "execution_count": 21,
   "id": "1d0f12c6",
   "metadata": {},
   "outputs": [
    {
     "name": "stdout",
     "output_type": "stream",
     "text": [
      "Iteration : 0\n",
      "[8 3 8 ... 3 3 7] [6 8 2 ... 5 1 1]\n",
      "Accuracy:  14.029268292682929 %\n",
      "Iteration : 100\n",
      "[6 8 2 ... 5 1 1] [6 8 2 ... 5 1 1]\n",
      "Accuracy:  72.78048780487805 %\n",
      "Iteration : 200\n",
      "[6 8 2 ... 8 1 1] [6 8 2 ... 5 1 1]\n",
      "Accuracy:  82.17560975609756 %\n",
      "Iteration : 300\n",
      "[6 8 2 ... 5 1 1] [6 8 2 ... 5 1 1]\n",
      "Accuracy:  85.49756097560976 %\n",
      "Iteration : 400\n",
      "[6 8 2 ... 5 1 1] [6 8 2 ... 5 1 1]\n",
      "Accuracy:  86.99756097560976 %\n",
      "Iteration : 500\n",
      "[6 8 2 ... 5 1 1] [6 8 2 ... 5 1 1]\n",
      "Accuracy:  87.7 %\n",
      "Iteration : 600\n",
      "[6 8 2 ... 5 1 1] [6 8 2 ... 5 1 1]\n",
      "Accuracy:  88.13170731707316 %\n",
      "Iteration : 700\n",
      "[6 8 2 ... 5 1 1] [6 8 2 ... 5 1 1]\n",
      "Accuracy:  87.81463414634146 %\n",
      "Iteration : 800\n",
      "[6 8 2 ... 5 1 1] [6 8 2 ... 5 1 1]\n",
      "Accuracy:  88.7560975609756 %\n",
      "Iteration : 900\n",
      "[6 8 2 ... 5 1 1] [6 8 2 ... 5 1 1]\n",
      "Accuracy:  88.4560975609756 %\n",
      "Iteration : 1000\n",
      "[6 8 2 ... 5 1 1] [6 8 2 ... 5 1 1]\n",
      "Accuracy:  88.7439024390244 %\n",
      "Iteration : 1100\n",
      "[6 8 2 ... 5 1 1] [6 8 2 ... 5 1 1]\n",
      "Accuracy:  88.87317073170732 %\n",
      "Iteration : 1200\n",
      "[6 8 2 ... 5 1 1] [6 8 2 ... 5 1 1]\n",
      "Accuracy:  89.0439024390244 %\n",
      "Iteration : 1300\n",
      "[6 8 2 ... 5 1 1] [6 8 2 ... 5 1 1]\n",
      "Accuracy:  89.12439024390244 %\n",
      "Iteration : 1400\n",
      "[6 8 2 ... 5 1 1] [6 8 2 ... 5 1 1]\n",
      "Accuracy:  89.25853658536586 %\n",
      "Iteration : 1500\n",
      "[6 8 2 ... 5 1 1] [6 8 2 ... 5 1 1]\n",
      "Accuracy:  89.41707317073171 %\n",
      "Iteration : 1600\n",
      "[6 8 2 ... 5 1 1] [6 8 2 ... 5 1 1]\n",
      "Accuracy:  89.54634146341463 %\n",
      "Iteration : 1700\n",
      "[6 8 2 ... 5 1 1] [6 8 2 ... 5 1 1]\n",
      "Accuracy:  89.62682926829268 %\n",
      "Iteration : 1800\n",
      "[6 8 2 ... 9 1 1] [6 8 2 ... 5 1 1]\n",
      "Accuracy:  89.75121951219512 %\n",
      "Iteration : 1900\n",
      "[6 8 2 ... 9 1 1] [6 8 2 ... 5 1 1]\n",
      "Accuracy:  89.80243902439025 %\n",
      "Iteration : 2000\n",
      "[6 8 2 ... 9 1 1] [6 8 2 ... 5 1 1]\n",
      "Accuracy:  89.8658536585366 %\n"
     ]
    }
   ],
   "source": [
    "W1, b1, W2, b2 = gradient_des(X_train, y_train, 2001, 0.2)"
   ]
  },
  {
   "cell_type": "code",
   "execution_count": 22,
   "id": "56836fe4",
   "metadata": {},
   "outputs": [],
   "source": [
    "def make_predictions(X, W1, b1, W2, b2):\n",
    "    _, _, _, A2 = forward_prop(W1, b1, W2, b2, X)\n",
    "    predictions = get_pred(A2)\n",
    "    return predictions\n",
    "\n",
    "def test_prediction(index, W1, b1, W2, b2):\n",
    "    current_image = X_train[:, index, None]\n",
    "    prediction = make_predictions(X_train[:, index, None], W1, b1, W2, b2)\n",
    "    label = y_train[index]\n",
    "    print(\"Prediction: \", prediction)\n",
    "    print(\"Label: \", label)\n",
    "    \n",
    "    current_image = current_image.reshape((28, 28)) * 255\n",
    "    plt.gray()\n",
    "    plt.imshow(current_image, interpolation='nearest')\n",
    "    plt.show()"
   ]
  },
  {
   "cell_type": "code",
   "execution_count": 23,
   "id": "3ad0eb31",
   "metadata": {},
   "outputs": [
    {
     "name": "stdout",
     "output_type": "stream",
     "text": [
      "Prediction:  [6]\n",
      "Label:  6\n"
     ]
    },
    {
     "data": {
      "image/png": "[encoded data removed]",
      "text/plain": [
       "<Figure size 640x480 with 1 Axes>"
      ]
     },
     "metadata": {},
     "output_type": "display_data"
    },
    {
     "name": "stdout",
     "output_type": "stream",
     "text": [
      "Prediction:  [8]\n",
      "Label:  8\n"
     ]
    },
    {
     "data": {
      "image/png": "[encoded data removed]",
      "text/plain": [
       "<Figure size 640x480 with 1 Axes>"
      ]
     },
     "metadata": {},
     "output_type": "display_data"
    },
    {
     "name": "stdout",
     "output_type": "stream",
     "text": [
      "Prediction:  [2]\n",
      "Label:  2\n"
     ]
    },
    {
     "data": {
      "image/png": "[encoded data removed]",
      "text/plain": [
       "<Figure size 640x480 with 1 Axes>"
      ]
     },
     "metadata": {},
     "output_type": "display_data"
    },
    {
     "name": "stdout",
     "output_type": "stream",
     "text": [
      "Prediction:  [4]\n",
      "Label:  4\n"
     ]
    },
    {
     "data": {
      "image/png": "[encoded data removed]",
      "text/plain": [
       "<Figure size 640x480 with 1 Axes>"
      ]
     },
     "metadata": {},
     "output_type": "display_data"
    }
   ],
   "source": [
    "test_prediction(0, W1, b1, W2, b2)\n",
    "test_prediction(1, W1, b1, W2, b2)\n",
    "test_prediction(2, W1, b1, W2, b2)\n",
    "test_prediction(3, W1, b1, W2, b2)"
   ]
  },
  {
   "cell_type": "code",
   "execution_count": 24,
   "id": "0e3336ec",
   "metadata": {},
   "outputs": [
    {
     "name": "stdout",
     "output_type": "stream",
     "text": [
      "[9 3 2 7 3 6 3 7 0 6 0 5 7 7 8 1 8 3 6 1 9 4 1 2 3 4 8 8 9 8 6 2 8 7 8 6 1\n",
      " 4 7 6 6 9 8 0 5 4 0 1 2 2 5 3 7 9 2 3 3 7 0 9 7 0 2 3 6 7 4 9 0 0 6 2 3 7\n",
      " 2 8 8 5 3 2 8 4 6 2 9 6 5 7 9 4 6 7 0 8 3 5 8 7 4 8 8 6 4 9 2 0 5 7 3 1 8\n",
      " 3 6 1 6 1 8 2 5 3 6 0 2 4 8 5 5 2 8 5 7 4 6 5 3 2 1 3 9 8 4 4 9 1 8 2 8 4\n",
      " 4 7 4 9 5 2 8 4 8 7 7 1 4 3 0 3 4 4 0 5 2 3 5 0 9 7 2 1 8 2 0 9 7 7 5 4 6\n",
      " 6 7 5 5 0 2 0 4 4 4 2 3 0 7 1 4 2 9 5 4 3 8 4 8 7 6 8 4 6 6 0 5 6 2 9 5 8\n",
      " 0 6 4 1 6 8 1 4 0 9 5 1 7 0 1 7 1 0 7 3 5 8 4 7 8 1 3 2 9 3 0 8 4 1 0 9 0\n",
      " 7 1 4 0 8 8 0 3 0 5 0 6 4 7 0 0 7 5 0 1 5 6 5 5 5 8 1 8 2 4 7 2 1 9 6 6 0\n",
      " 8 6 7 9 6 4 6 9 7 9 0 8 6 2 9 6 1 2 5 3 1 1 6 2 5 3 1 1 2 6 6 1 8 9 4 2 4\n",
      " 7 8 2 5 4 6 7 2 0 6 3 6 5 3 8 7 9 2 3 1 5 2 5 7 9 2 7 8 8 5 1 2 1 8 9 2 6\n",
      " 6 1 4 0 4 3 3 3 2 0 5 0 9 8 5 2 1 8 1 6 2 6 1 9 9 5 5 5 6 2 2 1 2 2 0 8 4\n",
      " 4 0 7 9 7 9 9 1 5 7 9 8 3 9 4 7 1 6 8 5 7 4 9 7 6 3 5 7 9 2 4 5 3 7 8 3 9\n",
      " 5 5 4 3 3 4 8 5 3 2 2 2 4 1 4 7 5 6 1 7 4 8 9 1 7 1 4 5 3 0 5 3 8 5 4 3 9\n",
      " 8 7 8 3 0 5 6 4 4 1 2 9 4 1 2 3 3 0 3 0 0 2 8 3 9 4 4 6 5 8 7 3 9 2 0 3 7\n",
      " 6 1 1 5 6 7 8 6 2 1 4 5 2 7 5 4 6 4 4 3 7 8 8 4 9 5 3 2 0 2 1 3 7 5 4 0 7\n",
      " 2 4 4 5 7 8 7 8 8 0 9 7 2 0 9 5 5 9 8 1 7 3 6 5 3 1 3 8 2 3 0 2 1 4 1 5 8\n",
      " 7 0 3 3 4 0 3 7 0 0 0 6 8 0 8 1 5 1 1 2 4 3 6 0 5 7 6 0 0 5 5 1 1 6 4 7 6\n",
      " 4 3 9 7 9 6 6 4 9 4 5 4 5 5 0 9 3 3 2 5 4 1 7 5 7 0 7 0 1 7 0 4 7 9 5 4 7\n",
      " 0 7 3 0 5 2 1 1 7 5 4 8 5 1 0 2 0 4 3 6 6 8 9 3 1 3 4 5 1 9 5 7 5 5 7 6 7\n",
      " 6 4 1 4 0 9 4 3 8 5 3 8 4 4 8 4 9 1 0 7 1 2 5 9 1 5 9 1 1 1 2 1 8 0 1 4 8\n",
      " 3 4 7 3 5 6 6 1 9 9 4 0 4 4 4 2 7 7 9 2 5 3 6 8 0 7 1 4 6 4 2 8 4 2 1 5 4\n",
      " 4 1 6 5 7 0 9 7 6 3 3 6 9 8 6 2 4 8 0 9 4 0 1 1 0 9 4 0 6 0 5 7 4 4 1 7 9\n",
      " 0 6 0 5 9 6 8 1 1 7 8 3 1 1 7 4 7 9 7 9 6 1 8 8 5 0 0 7 6 9 5 8 3 6 5 7 5\n",
      " 3 1 0 8 3 9 5 2 6 8 3 1 6 8 8 0 4 8 2 6 0 8 5 1 8 2 9 0 1 6 2 3 6 6 2 0 3\n",
      " 7 6 2 6 4 7 5 7 2 0 7 6 5 5 1 7 1 3 0 3 5 1 9 8 6 9 6 7 8 6 2 5 6 9 9 3 2\n",
      " 4 1 4 4 1 0 8 2 0 9 7 1 5 8 4 1 5 0 5 4 1 3 4 7 2 0 2 3 6 6 4 9 4 0 8 7 0\n",
      " 6 5 6 9 9 1 9 4 8 3 1 6 8 5 7 8 7 9 1 1 7 5 5 1 6 8 7 3 4 6 3 8 4 9 3 4 6\n",
      " 9] [9 3 2 7 2 6 3 7 0 6 0 5 7 7 8 1 5 5 6 7 9 4 1 2 3 4 8 5 9 5 6 2 8 7 5 6 1\n",
      " 4 7 6 6 9 8 6 1 4 0 1 2 2 5 3 7 9 2 3 3 7 5 9 7 2 2 3 6 7 9 9 0 0 6 2 3 7\n",
      " 2 8 8 5 3 2 8 3 6 2 9 6 9 9 9 4 6 7 0 2 5 0 8 7 4 8 8 6 4 9 2 0 5 7 3 1 9\n",
      " 3 6 6 2 1 3 2 5 5 6 0 2 4 8 5 5 2 8 0 7 5 6 5 3 2 1 3 9 8 5 4 9 1 5 2 8 9\n",
      " 4 7 4 9 5 2 3 4 8 7 7 7 7 3 0 3 9 4 0 5 2 3 5 0 9 3 2 1 8 2 0 9 7 7 5 4 6\n",
      " 6 7 5 8 0 2 0 4 4 4 2 9 0 7 1 4 2 9 5 4 3 3 4 8 7 6 8 4 6 6 0 3 6 2 9 8 8\n",
      " 0 6 4 1 6 8 1 4 0 9 5 1 7 0 1 7 1 0 9 3 5 8 4 7 8 1 3 2 9 3 0 8 4 1 0 7 0\n",
      " 7 1 4 0 1 8 0 3 0 3 0 6 4 7 0 0 7 5 0 1 9 6 5 6 5 8 1 8 2 9 7 2 1 9 6 6 0\n",
      " 8 6 7 9 6 8 6 9 7 9 0 8 6 2 9 6 1 2 5 3 1 1 6 2 8 3 1 1 2 6 4 7 8 9 4 2 4\n",
      " 7 8 2 8 4 6 7 2 0 6 3 6 0 3 8 7 9 2 3 1 5 2 8 7 9 2 7 8 8 5 1 2 1 5 9 2 6\n",
      " 6 1 4 0 8 3 3 3 2 0 8 0 9 8 5 2 1 8 1 6 7 6 1 9 9 6 8 3 6 1 2 1 2 2 0 8 4\n",
      " 6 0 9 7 7 9 9 1 5 3 9 1 3 9 4 7 1 6 8 5 7 4 9 7 6 3 3 7 9 2 4 5 3 7 8 3 9\n",
      " 8 5 4 3 3 4 8 5 4 4 2 2 4 1 4 4 2 6 1 9 4 1 9 1 7 1 4 3 3 0 5 5 6 5 4 3 9\n",
      " 8 7 8 3 0 5 5 9 4 1 2 3 4 1 2 3 3 0 3 0 0 2 8 3 9 4 4 6 1 8 7 3 9 2 0 3 7\n",
      " 6 1 1 5 6 7 8 6 2 1 8 5 2 7 5 4 6 9 4 3 7 8 8 4 9 5 3 2 0 2 1 5 7 5 9 0 7\n",
      " 7 4 4 2 7 6 7 8 8 0 9 7 2 0 9 5 5 5 8 1 7 3 6 5 3 1 3 8 2 3 0 2 1 4 1 5 8\n",
      " 7 0 3 3 8 0 3 7 0 0 0 6 8 0 8 1 5 1 1 2 4 3 6 0 5 7 6 0 0 5 5 1 1 1 9 7 6\n",
      " 4 3 3 7 9 6 6 9 4 4 5 2 5 5 0 9 3 3 2 3 4 1 9 5 7 0 7 0 1 7 0 4 7 9 5 2 7\n",
      " 0 7 3 0 5 9 1 4 7 5 4 8 5 1 0 2 0 4 3 6 6 8 9 3 1 9 4 5 1 9 9 7 5 5 7 6 7\n",
      " 6 5 1 4 0 9 4 3 8 5 3 8 9 4 8 4 9 1 0 7 1 2 4 9 9 5 9 1 1 1 2 1 8 0 7 4 8\n",
      " 3 4 7 3 3 6 4 1 9 9 4 0 4 4 4 2 7 7 9 2 5 3 6 8 0 7 1 4 6 9 2 8 9 2 1 5 4\n",
      " 4 1 6 5 7 0 9 7 6 5 3 6 9 8 6 2 9 3 0 9 4 0 1 1 0 9 4 0 6 0 5 7 4 4 1 7 9\n",
      " 0 6 0 8 9 6 5 1 1 7 4 3 8 1 7 4 7 3 7 9 6 1 3 3 5 0 0 7 6 9 5 1 3 6 5 7 5\n",
      " 3 1 0 8 3 9 5 2 4 8 3 1 6 8 8 0 4 8 2 6 0 8 5 1 5 2 9 5 1 6 2 3 6 6 2 0 3\n",
      " 7 6 2 1 7 7 7 7 2 0 7 6 5 5 1 7 1 3 0 3 5 1 4 8 6 9 8 7 8 6 2 5 6 9 9 3 2\n",
      " 4 1 4 4 1 0 8 2 0 9 7 1 6 8 4 1 5 0 5 4 1 3 4 7 2 0 2 3 6 6 4 9 5 0 3 7 0\n",
      " 6 5 6 9 9 1 9 4 5 3 1 6 8 5 7 8 7 9 1 1 7 3 5 1 6 8 7 3 4 3 3 8 4 9 3 4 6\n",
      " 9]\n"
     ]
    },
    {
     "data": {
      "text/plain": [
       "86.4"
      ]
     },
     "execution_count": 24,
     "metadata": {},
     "output_type": "execute_result"
    }
   ],
   "source": [
    "dev_predictions = make_predictions(X_dev, W1, b1, W2, b2)\n",
    "get_accuracy(dev_predictions, y_dev)"
   ]
  },
  {
   "cell_type": "code",
   "execution_count": null,
   "id": "03841a2a",
   "metadata": {},
   "outputs": [],
   "source": []
  },
  {
   "cell_type": "code",
   "execution_count": null,
   "id": "caa581d7",
   "metadata": {},
   "outputs": [],
   "source": [
    "\n"
   ]
  },
  {
   "cell_type": "code",
   "execution_count": null,
   "id": "2314473d",
   "metadata": {},
   "outputs": [],
   "source": []
  },
  {
   "cell_type": "code",
   "execution_count": null,
   "id": "02fea0b1",
   "metadata": {},
   "outputs": [],
   "source": []
  },
  {
   "cell_type": "code",
   "execution_count": null,
   "id": "c2554903",
   "metadata": {},
   "outputs": [],
   "source": []
  },
  {
   "cell_type": "code",
   "execution_count": null,
   "id": "bae7c581",
   "metadata": {},
   "outputs": [],
   "source": []
  },
  {
   "cell_type": "code",
   "execution_count": null,
   "id": "4f709cb4",
   "metadata": {},
   "outputs": [],
   "source": []
  },
  {
   "cell_type": "code",
   "execution_count": null,
   "id": "9bcfde89",
   "metadata": {},
   "outputs": [],
   "source": []
  }
 ],
 "metadata": {
  "kernelspec": {
   "display_name": "Python 3 (ipykernel)",
   "language": "python",
   "name": "python3"
  },
  "language_info": {
   "codemirror_mode": {
    "name": "ipython",
    "version": 3
   },
   "file_extension": ".py",
   "mimetype": "text/x-python",
   "name": "python",
   "nbconvert_exporter": "python",
   "pygments_lexer": "ipython3",
   "version": "3.10.9"
  }
 },
 "nbformat": 4,
 "nbformat_minor": 5
}
